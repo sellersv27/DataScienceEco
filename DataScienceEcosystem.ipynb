{
 "cells": [
  {
   "cell_type": "markdown",
   "id": "b5992245",
   "metadata": {},
   "source": [
    "<h1>Header 1, Data Science Tools and Ecosystem<h1>\n",
    "    "
   ]
  },
  {
   "cell_type": "code",
   "execution_count": null,
   "id": "e842aba8",
   "metadata": {},
   "outputs": [],
   "source": [
    "print(\"Hello Vicki Sellers\")\n"
   ]
  },
  {
   "cell_type": "markdown",
   "id": "bbfd269e",
   "metadata": {},
   "source": [
    "## Introduction\n",
    "In this notebook, Data Science Tools and Ecosystem are summarized.\n",
    "## Objectives of this notebook\n",
    "Some of the key takeaways of this course is learning the popular Data Science Languages.\n",
    "<ul>\n",
    "    <li>Java</li>\n",
    "    <li>Python</li>\n",
    "    <li>C++</li>\n",
    "    <li>SQL</li>\n",
    "    <li>Julia</li>\n",
    "    </ul>"
   ]
  },
  {
   "cell_type": "markdown",
   "id": "cf8f527d",
   "metadata": {},
   "source": [
    "## List Data Science Languages\n",
    "Some of the popular languages that Data Scientists use are:\n"
   ]
  },
  {
   "cell_type": "markdown",
   "id": "280a6e30",
   "metadata": {},
   "source": [
    "<ol>\n",
    "<li>Python</li>\n",
    "<li>Java</li>\n",
    "<li>MATLAB</li>\n",
    "<li>R</li>\n",
    "<li>Scala</li>\n",
    "<li>SQL</li>\n",
    "<li>JavaScript</li>\n",
    "<li>Ruby</li>\n",
    "</ol>"
   ]
  },
  {
   "cell_type": "markdown",
   "id": "b07af1f0",
   "metadata": {},
   "source": [
    "## List Data Science Libraries\n",
    "Some of the commonly used libraries used by Data Scientists include:\n"
   ]
  },
  {
   "cell_type": "markdown",
   "id": "6e8e12f6",
   "metadata": {},
   "source": [
    "<ol>\n",
    "    <li>Pandas</li>\n",
    "    <li>NumPy</li>\n",
    "    <li>TensorFlow</li>\n",
    "    <li>Matplotlib</li>\n",
    "    <li>SciPy</li>\n",
    "    <li>Scikit-Learn</li>\n",
    "    <li>BeautifulSoup</li>\n",
    "    </ol>\n",
    "    \n",
    "    \n",
    "    "
   ]
  },
  {
   "cell_type": "markdown",
   "id": "ad486452",
   "metadata": {},
   "source": [
    "|Data|Science|Tools|\n",
    "|-----|-----|-----|\n",
    "|Tableau|MATLAB|SAS|\n",
    "|Weka|TensorFlow|Apache Spark|\n",
    "    \n",
    "            "
   ]
  },
  {
   "cell_type": "markdown",
   "id": "bc09698c",
   "metadata": {},
   "source": [
    "# Introducing Arithmetic Expressions\n",
    "Below are a few examples of evaluating arithmetic expressions in Python.\n",
    "\n"
   ]
  },
  {
   "cell_type": "code",
   "execution_count": 6,
   "id": "2ac490c0",
   "metadata": {},
   "outputs": [
    {
     "data": {
      "text/plain": [
       "17"
      ]
     },
     "execution_count": 6,
     "metadata": {},
     "output_type": "execute_result"
    }
   ],
   "source": [
    "#This is a simple arithmetic expression to mutiply then add integers.\n",
    "(3*4)+5"
   ]
  },
  {
   "cell_type": "code",
   "execution_count": null,
   "id": "52d2b2d0",
   "metadata": {},
   "outputs": [],
   "source": [
    "#Python program to convert minutes to hours\n",
    "min = int(input(\"200 : -->\"))\n",
    "print(\"Hour : Minute :--> \", int(min/60), \" : \", min % 60)\n"
   ]
  },
  {
   "cell_type": "markdown",
   "id": "a5fe88cb",
   "metadata": {},
   "source": [
    "## Author's Name\n",
    "Vicki Sellers\n"
   ]
  },
  {
   "cell_type": "code",
   "execution_count": null,
   "id": "141979e9",
   "metadata": {},
   "outputs": [],
   "source": []
  }
 ],
 "metadata": {
  "kernelspec": {
   "display_name": "Python 3 (ipykernel)",
   "language": "python",
   "name": "python3"
  },
  "language_info": {
   "codemirror_mode": {
    "name": "ipython",
    "version": 3
   },
   "file_extension": ".py",
   "mimetype": "text/x-python",
   "name": "python",
   "nbconvert_exporter": "python",
   "pygments_lexer": "ipython3",
   "version": "3.10.9"
  }
 },
 "nbformat": 4,
 "nbformat_minor": 5
}
